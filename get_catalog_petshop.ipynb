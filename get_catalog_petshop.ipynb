{
 "cells": [
  {
   "cell_type": "code",
   "execution_count": null,
   "metadata": {},
   "outputs": [],
   "source": [
    "import requests\n",
    "from bs4 import BeautifulSoup\n",
    "import pickle\n",
    "\n",
    "class LinksPetshop:\n",
    "    def __init__(self, url):\n",
    "        self.url = url\n",
    "        self.html = self.get_html()\n",
    "        self.soup = self.get_soup()\n",
    "        \n",
    "    def get_html(self):\n",
    "        try:\n",
    "            r = requests.get(self.url)\n",
    "            r.raise_for_status()\n",
    "            return r.text\n",
    "        except(requests.RequestException, ValueError):\n",
    "            print('Server error')\n",
    "            return False\n",
    "        \n",
    "    def get_soup(self):\n",
    "        soup = BeautifulSoup(self.html, 'lxml')\n",
    "        return soup\n",
    "     \n",
    "    def bs(self, url):\n",
    "        html = LinksPetshop(url)\n",
    "        s = html.get_soup()\n",
    "        return s\n",
    "    \n",
    "    def catalog_links(self):\n",
    "        catalog_links =[]\n",
    "        catalog = self.soup.find_all(\"a\", class_=\"categories__title-link\")\n",
    "        links = [i.get('href') for i in catalog]          # /catalog/dogs/\n",
    "        animals_categories = [i.split('/')[-2] for i in links]        # ['dogs', 'cats', 'rodents', 'birds', 'fish', 'merch', 'sale']\n",
    "        catalog_links = [f'https://www.petshop.ru/catalog/{i}/' for i in animals_categories]   #['https://www.petshop.ru/catalog/dogs/' ...]\n",
    "        return list(filter(None, catalog_links))\n",
    "\n",
    "    def categories_links(self):\n",
    "        categories_link = []\n",
    "        for url in self.catalog_links():\n",
    "            soup = self.bs(url)\n",
    "            categories = soup.find_all('a', class_='categories__title-link')\n",
    "            #links = ['https://www.petshop.ru' + i.get('href') for i in categories]    # [['https://www.petshop.ru/catalog/dogs/holistic/'...],['https://www.petshop.ru/catalog/cats/syxoi/'...], ...]\n",
    "            #categories_link.append(links)            \n",
    "            for i in categories:\n",
    "                links = 'https://www.petshop.ru' + i.get('href')\n",
    "                categories_link.append(links)\n",
    "        return list(filter(None, categories_link))\n",
    "\n",
    "    def product_links(self):\n",
    "        product_links =[]\n",
    "        for urls in self.get_categories():\n",
    "            print(\"categories:\" + urls.split('/')[4])\n",
    "            print('    '+urls.split('/')[-2])\n",
    "            soup = self.bs(urls)\n",
    "            try:\n",
    "                number_of_pages = int(soup.find('div', class_='page-navigation').find_all('a')[-2].text)\n",
    "            except:\n",
    "                number_of_pages = 1\n",
    "            products_list = []\n",
    "            for i in range(1,number_of_pages+1):\n",
    "                u = f'{urls}?page={i}'\n",
    "                soup = self.bs(u)\n",
    "                print(u)\n",
    "                print(f'        processing page: {i}')\n",
    "                for a in soup.find_all('a', class_='j_product-brand j_product-link'):\n",
    "                    url = 'https://www.petshop.ru' + a.get('href')\n",
    "                    soup = self.bs(url)\n",
    "                    count = 0\n",
    "                    for i in soup.find_all('label', class_ = 'style_tile_label__NBrsJ'):\n",
    "                        count += 1\n",
    "                        label_id =f'{url}?oid='+i['id']\n",
    "                        products_list.append(label_id)\n",
    "                        print('            packing size: ' + str(count))\n",
    "                    print('next product')\n",
    "\n",
    "if __name__ == \"__main__\":\n",
    "    url = 'https://www.petshop.ru/catalog/'\n",
    "    get_links = LinksPetshop(url)"
   ]
  },
  {
   "cell_type": "code",
   "execution_count": null,
   "metadata": {},
   "outputs": [],
   "source": [
    "get_product_links = get_links.product_links()"
   ]
  },
  {
   "cell_type": "code",
   "execution_count": null,
   "metadata": {},
   "outputs": [],
   "source": [
    "with open('product_links_petshop.pickle', 'wb') as f:\n",
    "    pickle.dump(get_product_links, f)\n",
    "with open('product_links_petshop.pickle', 'rb') as f:\n",
    "    product_links = pickle.load(f)"
   ]
  },
  {
   "cell_type": "code",
   "execution_count": null,
   "metadata": {},
   "outputs": [],
   "source": []
  }
 ],
 "metadata": {
  "kernelspec": {
   "display_name": "Python 3",
   "language": "python",
   "name": "python3"
  },
  "language_info": {
   "codemirror_mode": {
    "name": "ipython",
    "version": 3
   },
   "file_extension": ".py",
   "mimetype": "text/x-python",
   "name": "python",
   "nbconvert_exporter": "python",
   "pygments_lexer": "ipython3",
   "version": "3.8.3"
  }
 },
 "nbformat": 4,
 "nbformat_minor": 4
}
